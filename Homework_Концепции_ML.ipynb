{
  "nbformat": 4,
  "nbformat_minor": 0,
  "metadata": {
    "kernelspec": {
      "display_name": "Python 3",
      "language": "python",
      "name": "python3"
    },
    "language_info": {
      "codemirror_mode": {
        "name": "ipython",
        "version": 3
      },
      "file_extension": ".py",
      "mimetype": "text/x-python",
      "name": "python",
      "nbconvert_exporter": "python",
      "pygments_lexer": "ipython3",
      "version": "3.6.3"
    },
    "colab": {
      "provenance": [],
      "toc_visible": true,
      "include_colab_link": true
    }
  },
  "cells": [
    {
      "cell_type": "markdown",
      "metadata": {
        "id": "view-in-github",
        "colab_type": "text"
      },
      "source": [
        "<a href=\"https://colab.research.google.com/github/r73psv/1/blob/master/Homework_%D0%9A%D0%BE%D0%BD%D1%86%D0%B5%D0%BF%D1%86%D0%B8%D0%B8_ML.ipynb\" target=\"_parent\"><img src=\"https://colab.research.google.com/assets/colab-badge.svg\" alt=\"Open In Colab\"/></a>"
      ]
    },
    {
      "cell_type": "markdown",
      "metadata": {
        "id": "AA9qiddM7MxM"
      },
      "source": [
        "# Основные концепции Machine Learning. Домашняя работа"
      ]
    },
    {
      "cell_type": "code",
      "metadata": {
        "id": "_XMI1aaX7MxQ"
      },
      "source": [
        "### Тут нужно сделать импорты всех необходимых библиотек ###"
      ],
      "execution_count": null,
      "outputs": []
    },
    {
      "cell_type": "code",
      "metadata": {
        "id": "0Kjpkv3o7MxZ"
      },
      "source": [],
      "execution_count": null,
      "outputs": []
    },
    {
      "cell_type": "code",
      "metadata": {
        "id": "fD4otYne7Mxi"
      },
      "source": [
        "### Здесь требуется загрузить датасет phones.csv ###"
      ],
      "execution_count": null,
      "outputs": []
    },
    {
      "cell_type": "code",
      "metadata": {
        "id": "HzmOX-Yd7Mxo"
      },
      "source": [],
      "execution_count": null,
      "outputs": []
    },
    {
      "cell_type": "code",
      "metadata": {
        "id": "a2Hw3Jso7Mxt"
      },
      "source": [
        "### Опционально: используя matplotlib, можно сделать визуализацию загруженного датасета ###"
      ],
      "execution_count": null,
      "outputs": []
    },
    {
      "cell_type": "code",
      "metadata": {
        "id": "rXhrelNp7Mx0"
      },
      "source": [],
      "execution_count": null,
      "outputs": []
    },
    {
      "cell_type": "markdown",
      "metadata": {
        "id": "h1rvGoCB7Mx5"
      },
      "source": [
        "Задание 1: обучить модель регрессии"
      ]
    },
    {
      "cell_type": "code",
      "metadata": {
        "id": "XY23EgHH7Mx6"
      },
      "source": [
        "### Тут нужно выгрузить в соответствующие переменные выбранные признаки ###\n",
        "# X =\n",
        "# y ="
      ],
      "execution_count": null,
      "outputs": []
    },
    {
      "cell_type": "code",
      "metadata": {
        "id": "US0Ox9F57Mx9"
      },
      "source": [
        "### Здесь следует запустить процесс обучения ###\n",
        "### и продемонстрировать работоспобность обученной модели ###"
      ],
      "execution_count": null,
      "outputs": []
    },
    {
      "cell_type": "code",
      "metadata": {
        "id": "1sDXbyZU7MyC"
      },
      "source": [],
      "execution_count": null,
      "outputs": []
    },
    {
      "cell_type": "markdown",
      "metadata": {
        "id": "yuclRz_n7MyE"
      },
      "source": [
        "Задание 2: обучить модель классификации"
      ]
    },
    {
      "cell_type": "code",
      "metadata": {
        "id": "J4Ht5MM97MyF"
      },
      "source": [
        "### Тут нужно выгрузить в соответствующие переменные выбранные признаки ###\n",
        "# X =\n",
        "# y ="
      ],
      "execution_count": null,
      "outputs": []
    },
    {
      "cell_type": "code",
      "metadata": {
        "id": "DMpz3V8g7MyI"
      },
      "source": [
        "### Здесь следует запустить процесс обучения ###\n",
        "### и продемонстрировать работоспобность обученной модели ###"
      ],
      "execution_count": null,
      "outputs": []
    },
    {
      "cell_type": "code",
      "metadata": {
        "id": "hS-diYYZ7MyK"
      },
      "source": [],
      "execution_count": null,
      "outputs": []
    },
    {
      "cell_type": "markdown",
      "metadata": {
        "id": "PLUEg9NE7MyM"
      },
      "source": [
        "Задание 3: обучить модель кластеризации"
      ]
    },
    {
      "cell_type": "code",
      "metadata": {
        "id": "uI70MBPL7MyN"
      },
      "source": [
        "### Тут нужно выгрузить в соответствующие переменные выбранные признаки ###\n",
        "# X ="
      ],
      "execution_count": null,
      "outputs": []
    },
    {
      "cell_type": "code",
      "metadata": {
        "id": "Fn65CuKw7MyR"
      },
      "source": [
        "### Здесь следует запустить процесс обучения ###\n",
        "### и продемонстрировать работоспобность обученной модели ###"
      ],
      "execution_count": null,
      "outputs": []
    },
    {
      "cell_type": "code",
      "metadata": {
        "id": "Icl5e_aO7MyU"
      },
      "source": [],
      "execution_count": null,
      "outputs": []
    },
    {
      "cell_type": "code",
      "metadata": {
        "id": "Ci4wJ02o7MyX"
      },
      "source": [],
      "execution_count": null,
      "outputs": []
    }
  ]
}